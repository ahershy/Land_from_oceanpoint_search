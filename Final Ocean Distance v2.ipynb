{
 "cells": [
  {
   "cell_type": "code",
   "execution_count": 1,
   "id": "6c3d56b6",
   "metadata": {
    "scrolled": true
   },
   "outputs": [],
   "source": [
    "#pip install global-land-mask\n",
    "#pip install haversine\n",
    "#pip install random and pandas\n",
    "from global_land_mask import globe\n",
    "import haversine as hs\n",
    "from haversine import Unit\n",
    "import random\n",
    "import pandas as pd\n"
   ]
  },
  {
   "cell_type": "code",
   "execution_count": 2,
   "id": "3aefb843",
   "metadata": {
    "scrolled": true
   },
   "outputs": [],
   "source": [
    "oceanpoint = (38.666067, -158.305948)\n",
    "\n",
    "randpointlist = []\n",
    "distanceapartlist = []\n",
    "isitlandlist = []\n",
    "\n",
    "#function to find how far away 2 points are in miles\n",
    "def howfaraway(x,y):\n",
    "    conv = 0.621371\n",
    "    return (hs.haversine(x,y))*conv\n",
    "\n",
    "#function to find out which points are land and which are ocean\n",
    "def isitland(y):\n",
    "    return globe.is_land(y[0],y[1])\n",
    "\n",
    "#writing loop to iterate on 5 million random points on the earth, compute distance from our initial point, and determine if it's land or water\n",
    "for x in range(5000000):\n",
    "    loc1 = oceanpoint\n",
    "    loc2 = (round(random.uniform(-90, 90),5),round(random.uniform(-180, 180),5))\n",
    "    disty = howfaraway(loc1,loc2)\n",
    "    isitlandvar = isitland(loc2)\n",
    "    distanceapartlist.append(disty)\n",
    "    isitlandlist.append(isitlandvar)\n",
    "    randpointlist.append(loc2)\n",
    "    \n",
    "#creating dataframe of 5 million iterations\n",
    "df = pd.DataFrame({'point': randpointlist, 'distancefrom': distanceapartlist, 'isitland': isitlandlist})\n",
    "\n"
   ]
  },
  {
   "cell_type": "code",
   "execution_count": 3,
   "id": "e830aa6f",
   "metadata": {},
   "outputs": [
    {
     "name": "stdout",
     "output_type": "stream",
     "text": [
      "PandasDataFrame\n",
      "point:str                                                          |distancefrom:double|isitland:str\n",
      "-------------------------------------------------------------------+-------------------+------------\n",
      "(23.06468, -161.93897)                                             |1099.0031418174165 |True        \n",
      "(53.38601, -167.22204)                                             |1101.3144487077361 |True        \n",
      "(53.25668, -167.66261)                                             |1101.5494173236984 |True        \n",
      "(53.5897, -166.60079)                                              |1103.1949711389707 |True        \n",
      "(53.28836, -167.64807)                                             |1103.2140868992924 |True        \n",
      "(53.47949, -167.03933)                                             |1103.8511104859608 |True        \n",
      "(53.38707, -167.3647)                                              |1103.9880847656018 |True        \n",
      "(53.54443, -166.81848)                                             |1104.0528616513918 |True        \n",
      "(53.31488, -167.64115)                                             |1104.7092840518123 |True        \n",
      "(53.33226, -167.59074)                                             |1104.8224534192857 |True        \n"
     ]
    },
    {
     "data": {
      "text/plain": [
       "DataFrames()"
      ]
     },
     "execution_count": 3,
     "metadata": {},
     "output_type": "execute_result"
    }
   ],
   "source": [
    "#importing fugue_sql\n",
    "from fugue_sql import fsql\n",
    "\n",
    "#fugue_sql works better with string data types, so I convert here\n",
    "df['point'] = df['point'].astype(str)\n",
    "df['isitland'] = df['isitland'].astype(str)\n",
    "\n",
    "#writing query\n",
    "query = 'SELECT point, distancefrom, isitland FROM df WHERE isitland = \"True\" ORDER BY distancefrom LIMIT 50 PRINT'\n",
    "fsql(query).run()\n"
   ]
  },
  {
   "cell_type": "code",
   "execution_count": null,
   "id": "ebe04e6d",
   "metadata": {},
   "outputs": [],
   "source": []
  }
 ],
 "metadata": {
  "kernelspec": {
   "display_name": "Python 3 (ipykernel)",
   "language": "python",
   "name": "python3"
  },
  "language_info": {
   "codemirror_mode": {
    "name": "ipython",
    "version": 3
   },
   "file_extension": ".py",
   "mimetype": "text/x-python",
   "name": "python",
   "nbconvert_exporter": "python",
   "pygments_lexer": "ipython3",
   "version": "3.9.12"
  }
 },
 "nbformat": 4,
 "nbformat_minor": 5
}
